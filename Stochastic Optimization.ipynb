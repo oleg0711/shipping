{
 "cells": [
  {
   "cell_type": "markdown",
   "metadata": {},
   "source": [
    "# Optimal Speed and Optimal Hedging\n",
    "\n",
    "First I propose to solve a deterministic problem with the same parameters. I will help up to:\n",
    "(1) Compare the results from deterministic to scochatic settings\n",
    "(2) Set the grid and boundaries for parameters in the stochastic setting\n",
    "(3) Provide starting points for the optimization"
   ]
  },
  {
   "cell_type": "markdown",
   "metadata": {},
   "source": [
    "### Running Deterministic Optimization"
   ]
  },
  {
   "cell_type": "code",
   "execution_count": null,
   "metadata": {
    "scrolled": true
   },
   "outputs": [],
   "source": [
    "import pandas as pd\n",
    "from scipy.interpolate import interp1d\n",
    "from Logistics_stoch import CShip\n",
    "from Logistics_stoch import CRoundtrip\n",
    "from Logistics_stoch import CJourney\n",
    "from Logistics_stoch import CPort\n",
    "import deterministic_opt_func as det_opt\n",
    "\n",
    "oJourney = CJourney(NrOfRoundtrips = 1,\n",
    "                    LegsPerRoundtrip = 5,\n",
    "                    OpprtCostCapitalRate = 0.08,\n",
    "                    DailyHire_USDperDay = 30000,\n",
    "                    FutureProfitPotential_USDperDay = 12968)\n",
    "\n",
    "\n",
    "oShip = CShip(Vmin=10, \n",
    "              Vmax=17, \n",
    "              DWTscantling=157880, \n",
    "              DWTdesign=145900, \n",
    "              Lightweight=49000, \n",
    "              k=0.00000391, \n",
    "              p=381, \n",
    "              g=3.1, \n",
    "              a=0.666667, \n",
    "              ShipDischargeRate=3000, \n",
    "              BallastCapacity=54500,\n",
    "              MinFillRateShip=0.3,\n",
    "              AuxFuelConsumption_TonnePerDay=5)\n",
    "\n",
    "oPortList = []\n",
    "\n",
    "df_data = pd.read_excel('journey_data.xlsx',sheet_name='Ports')\n",
    "\n",
    "for i in range(0,oJourney.LegsPerRoundtrip+1):\n",
    "    for index,row in df_data.iterrows():\n",
    "        v_name = row['Variable']\n",
    "        v_value = row[i]\n",
    "        #print(\"Loading from excel, leg:\"+str(i)+\", Executing statement(\"+str(v_name)+\"=\"+str(v_value)+\")\")\n",
    "        exec(v_name + '=' + str(v_value))\n",
    "    \n",
    "    \n",
    "    print(CargoRevenueRate_USDperBarrelper1000nm)\n",
    "    oPort = CPort(PortNr=i, \n",
    "                  DistancePreviousPort_nm=DistancePreviousPort_nm,\n",
    "                  LoadingRate_QbmetresperHr=LoadingRate_QbmetresperHr,\n",
    "                  WaitingTime_Hrs=WaitingTime_Hrs,              \n",
    "                  CargoIntake_Barrels=CargoIntake_Barrels,\n",
    "                  CargoIntake_QBmetresperBarrel=CargoIntake_QBmetresperBarrel,\n",
    "                  CargoIntake_QbmetresPerTonne=CargoIntake_QbmetresPerTonne,\n",
    "                  FixedPortAccessCosts_USD = FixedPortAccessCosts_USD,\n",
    "                  UnloadingCharge_USDperHr = UnloadingCharge_USDperHr,\n",
    "                  LoadingCharge_USDperHr = LoadingCharge_USDperHr,\n",
    "                  CargoRevenueRate_USDperBarrelper1000nm = CargoRevenueRate_USDperBarrelper1000nm,\n",
    "                  MainBunkerRate_USDperBarrel = MainBunkerRate_USDperBarrel,\n",
    "                  MainBunker_QBmetresperBarrel = MainBunker_QBmetresperBarrel,\n",
    "                  MainBunker_QbmetresPerTonne = MainBunker_QbmetresPerTonne,\n",
    "                  AuxFuelRate_USDperTonne = AuxFuelRate_USDperTonne,\n",
    "                  UnloadingCosts_USD = UnloadingCosts_USD,\n",
    "                  LoadingCosts_USD = LoadingCosts_USD,\n",
    "                  CargoIntake_Tonne = CargoIntake_Tonne,\n",
    "                  UnloadingTime_Hrs = UnloadingTime_Hrs,\n",
    "                  LoadingTime_Hrs = LoadingTime_Hrs,\n",
    "                  LegRevenue_Barrels = LegRevenue_Barrels,\n",
    "                  LegRevenue_USD = LegRevenue_USD)\n",
    "    \n",
    "    oPortList.append(oPort)\n",
    "\n",
    "oRTList_det = det_opt.run_deterministic_opt(oJ=oJourney,\n",
    "                                            oS=oShip,\n",
    "                                            oPL=oPortList)\n",
    "# storing solution in the journey object\n",
    "oJourney.oRTList_det = oRTList_det\n"
   ]
  },
  {
   "cell_type": "code",
   "execution_count": null,
   "metadata": {},
   "outputs": [],
   "source": [
    "df_data"
   ]
  },
  {
   "cell_type": "markdown",
   "metadata": {},
   "source": [
    "# Set up the freight rate dynamics\n",
    "We assume that the log of the spot freight rate has the Ornstein-Uhlenbeck (OU) dynamics:\n",
    "\n",
    "$dR_t = \\lambda_r (R_t - \\bar{R}) dt + \\sigma_r dW_t$\n",
    "\n",
    "The solution of the OU process is well know, the random variable is normally distributed with the following mean and variance:\n",
    "\n",
    "$\\mathbb{E}(R_T|R_0) = R_0 e^{-\\lambda_r T} + \\bar{R} (1 - e^{-\\lambda_r T})$\n",
    "\n",
    "$Var(R_T|R_0) = \\frac{{\\sigma_r}^2}{2 \\lambda_r}(1 - e^{-2\\lambda_r T})$\n",
    "\n",
    "To get to the actual freight rate:\n",
    "\n",
    "$\\mathbb{E} [exp(R_T)|R_0] = e^{\\mathbb{E}(R_T|R_0) + 0.5*Var(R_T|R_0)} = e^{R_0 e^{-\\lambda_r T} + \\bar{R} (1 - e^{-\\lambda_r T}) + \\frac{{\\sigma_r}^2}{4 \\lambda_r}(1 - e^{-2\\lambda_r T})}$\n",
    "\n",
    "$Var[exp(R_T)|R_0] = (e^{Var(R_T|R_0)}-1) e^{2\\mathbb{E}(R_T|R_0) + Var(R_T|R_0)} = (e^{\\frac{{\\sigma_r}^2}{4 \\lambda_r}(1 - e^{-2\\lambda_r T})}-1) e^{2(R_0 e^{-\\lambda_r T} + \\bar{R} (1 - e^{-\\lambda_r T})) + \\frac{{\\sigma_r}^2}{4 \\lambda_r}(1 - e^{-2\\lambda_r T})}$\n"
   ]
  },
  {
   "cell_type": "code",
   "execution_count": null,
   "metadata": {},
   "outputs": [],
   "source": [
    "# O.U. parameters of the log rate model:\n",
    "# the data is assuming T=1 it is one year.\n",
    "\n",
    "import matplotlib.pyplot as plt\n",
    "import OU_process\n",
    "\n",
    "ou_process = OU_process.OU_process(r_bar = 6.2, r_lambda=3, r_sigma=0.3)\n",
    "\n",
    "\n",
    "T_days=15\n",
    "r = 6.27\n",
    "states, step = ou_process.gen_states(T_days=T_days)\n",
    "print('All generated states for T_days=' + str(T_days))\n",
    "print(states)\n",
    "p = ou_process.p_vector(states, step, r, T_days=T_days)\n",
    "\n",
    "plt.xlabel('States')\n",
    "plt.title('Probability as a function of state in T_days')\n",
    "plt.plot(states, p)\n",
    "plt.show()"
   ]
  },
  {
   "cell_type": "markdown",
   "metadata": {},
   "source": [
    "## Forward Freight Agreements\n",
    "\n",
    "We assume that the futures curve is trading at a certain discount to the expected spot rate given by the O.U. process. If the spot rate is below its long term average, the expectation curve will look like a contango, and for a spot rate above the long term rate, the expectation curve will look like a backwardation. On both of these curves we apply a discount which is governed by a slope contant (fut_curve_slope in the code):\n",
    "\n",
    "$F_T = e^{-slope * T} \\mathbb{E}(e^{R_T}|R_t)$"
   ]
  },
  {
   "cell_type": "code",
   "execution_count": null,
   "metadata": {},
   "outputs": [],
   "source": [
    "import numpy as np\n",
    "import FFA\n",
    "ffa = FFA.FFA(fut_curve_slope = -0.2)\n",
    "\n",
    "r0 = ou_process.r_bar * 0.9\n",
    "T_hor = np.array(range(0,365))\n",
    "futures_curve = []\n",
    "expecation_curve= []\n",
    "for t in T_hor:\n",
    "    E_R = ou_process.E_exp(r0=r0,T_days=t)\n",
    "    futures_curve.append(ffa.shipping_futures(E_R=E_R,T_days=t))\n",
    "    expecation_curve.append(E_R)\n",
    "    \n",
    "plt.plot(futures_curve,label='Futures')\n",
    "plt.plot(expecation_curve, label='Model')\n",
    "plt.plot(np.exp(ou_process.generate_path(r=r0,T_days=365)), label='Simulated Path')\n",
    "plt.xlabel(\"Time in days\")\n",
    "plt.ylabel(\"Price in US$\")\n",
    "plt.title(\"Futures curve at t=0 vs the model future realization\")\n",
    "if r0<ou_process.r_bar:\n",
    "    plt.legend(loc=\"lower right\")\n",
    "else:\n",
    "    plt.legend(loc=\"upper right\")\n",
    "plt.show()"
   ]
  },
  {
   "cell_type": "markdown",
   "metadata": {},
   "source": [
    "## Running the stochastic optimization"
   ]
  },
  {
   "cell_type": "code",
   "execution_count": null,
   "metadata": {},
   "outputs": [],
   "source": [
    "from Optimization_Problem import Optimization_Problem\n",
    "op0 = Optimization_Problem(oJourney=oJourney, \n",
    "                          oShip=oShip, \n",
    "                          oPortList=oPortList, \n",
    "                          process=OU_process.OU_process(r_bar = 6.2, r_lambda=3, r_sigma=0.9), \n",
    "                          ffa=FFA.FFA(fut_curve_slope = -0.01), \n",
    "                          eta=2e-08) # determines how important is the variance of future spot rates)\n",
    "oRTList0 = op0.run_optimization()"
   ]
  },
  {
   "cell_type": "markdown",
   "metadata": {},
   "source": [
    "# Display the results\n",
    "\n"
   ]
  },
  {
   "cell_type": "markdown",
   "metadata": {},
   "source": [
    "## Value Function ($G$) or Goodwill \n",
    "\n",
    "The final value function after all legs and rountrip were calculated from the back."
   ]
  },
  {
   "cell_type": "code",
   "execution_count": null,
   "metadata": {},
   "outputs": [],
   "source": [
    "import matplotlib.pyplot as plt\n",
    "from matplotlib.ticker import NullFormatter \n",
    "\n",
    "plt.plot(oRTList0[oJourney.NrOfRoundtrips].RoundtripGoodwill.x,\n",
    "         oRTList0[oJourney.NrOfRoundtrips].RoundtripGoodwill.y)\n",
    "plt.xlabel('State of Freight Market') \n",
    "plt.ylabel('Goodwill') \n",
    "plt.title('The value of the ship')\n",
    "plt.gca().yaxis.set_minor_formatter(NullFormatter())\n",
    "plt.show()\n",
    "\n"
   ]
  },
  {
   "cell_type": "markdown",
   "metadata": {},
   "source": [
    "## Hedge Ratio"
   ]
  },
  {
   "cell_type": "code",
   "execution_count": null,
   "metadata": {},
   "outputs": [],
   "source": [
    "plt.plot(oRTList0[1].oLegList[0].Hedge_Ratio.x,\n",
    "         oRTList0[1].oLegList[0].Hedge_Ratio.y, \n",
    "         label='Leg 5')\n",
    "plt.plot(oRTList0[1].oLegList[1].Hedge_Ratio.x,\n",
    "         oRTList0[1].oLegList[1].Hedge_Ratio.y, \n",
    "         label='Leg 4')\n",
    "plt.plot(oRTList0[1].oLegList[2].Hedge_Ratio.x,\n",
    "         oRTList0[1].oLegList[2].Hedge_Ratio.y, \n",
    "         label='Leg 3')\n",
    "plt.plot(oRTList0[1].oLegList[3].Hedge_Ratio.x,\n",
    "         oRTList0[1].oLegList[3].Hedge_Ratio.y, \n",
    "         label='Leg 2')\n",
    "plt.plot(oRTList0[1].oLegList[4].Hedge_Ratio.x,\n",
    "         oRTList0[1].oLegList[4].Hedge_Ratio.y, \n",
    "         label='Leg 1')\n",
    "plt.xlabel('State of Freight Market') \n",
    "plt.ylabel('Days') \n",
    "plt.legend(loc='upper right')\n",
    "plt.title('Optimal hedge ratio for each state')\n",
    "plt.show()"
   ]
  },
  {
   "cell_type": "markdown",
   "metadata": {},
   "source": [
    "## Time of trip"
   ]
  },
  {
   "cell_type": "code",
   "execution_count": null,
   "metadata": {},
   "outputs": [],
   "source": [
    "plt.plot(oRTList0[1].oLegList[4].TimeAtSea_Days.x,\n",
    "         oRTList0[1].oLegList[4].TimeAtSea_Days.y, \n",
    "         label='Leg 5')\n",
    "plt.plot(oRTList0[1].oLegList[3].TimeAtSea_Days.x,\n",
    "         oRTList0[1].oLegList[3].TimeAtSea_Days.y, \n",
    "         label='Leg 4')\n",
    "plt.plot(oRTList0[1].oLegList[2].TimeAtSea_Days.x,\n",
    "         oRTList0[1].oLegList[2].TimeAtSea_Days.y, \n",
    "         label='Leg 3')\n",
    "plt.plot(oRTList0[1].oLegList[1].TimeAtSea_Days.x,\n",
    "         oRTList0[1].oLegList[1].TimeAtSea_Days.y, \n",
    "         label='Leg 2')\n",
    "plt.plot(oRTList0[1].oLegList[0].TimeAtSea_Days.x,\n",
    "         oRTList0[1].oLegList[0].TimeAtSea_Days.y, \n",
    "         label='Leg 1')\n",
    "plt.xlabel('State of Freight Market') \n",
    "plt.ylabel('Days') \n",
    "plt.legend(loc='upper right')\n",
    "plt.title('Time of trip in days')\n",
    "plt.show()\n",
    "\n",
    "\n",
    "\n"
   ]
  },
  {
   "cell_type": "markdown",
   "metadata": {},
   "source": [
    "## Speed trip"
   ]
  },
  {
   "cell_type": "code",
   "execution_count": null,
   "metadata": {},
   "outputs": [],
   "source": [
    "plt.plot(oRTList0[1].oLegList[4].Speed_kn.x,\n",
    "         oRTList0[1].oLegList[4].Speed_kn.y, \n",
    "         label='Leg 5')\n",
    "plt.plot(oRTList0[1].oLegList[3].Speed_kn.x,\n",
    "         oRTList0[1].oLegList[3].Speed_kn.y, \n",
    "         label='Leg 4')\n",
    "plt.plot(oRTList0[1].oLegList[2].Speed_kn.x,\n",
    "         oRTList0[1].oLegList[2].Speed_kn.y, \n",
    "         label='Leg 3')\n",
    "plt.plot(oRTList0[1].oLegList[1].Speed_kn.x,\n",
    "         oRTList0[1].oLegList[1].Speed_kn.y, \n",
    "         label='Leg 2')\n",
    "plt.plot(oRTList0[1].oLegList[0].Speed_kn.x,\n",
    "         oRTList0[1].oLegList[0].Speed_kn.y, \n",
    "         label='Leg 1')\n",
    "plt.xlabel('State of Freight Market') \n",
    "plt.ylabel('nm/h') \n",
    "plt.title('Speeds of the vessel')\n",
    "plt.show()\n"
   ]
  },
  {
   "cell_type": "markdown",
   "metadata": {},
   "source": [
    "## Changing parameters of the problem:"
   ]
  },
  {
   "cell_type": "markdown",
   "metadata": {},
   "source": [
    "Assume that the forward rates are discounted by more than previously assumed, in this case hadging is more costly on average, we expect less hedging and decrease of the hedge ratio:\n",
    "\n",
    "> ffa = FFA.FFA(fut_curve_slope = -0.01)"
   ]
  },
  {
   "cell_type": "code",
   "execution_count": null,
   "metadata": {},
   "outputs": [],
   "source": [
    "from Optimization_Problem import Optimization_Problem\n",
    "op1 = Optimization_Problem(oJourney=oJourney, \n",
    "                          oShip=oShip, \n",
    "                          oPortList=oPortList, \n",
    "                          process=OU_process.OU_process(r_bar = 6.2, \n",
    "                                                        r_lambda=3, \n",
    "                                                        r_sigma=0.3), \n",
    "                          ffa=FFA.FFA(fut_curve_slope = -0.02), \n",
    "                          eta=0.000000) \n",
    "oRTList1 = op1.run_optimization()"
   ]
  },
  {
   "cell_type": "markdown",
   "metadata": {},
   "source": [
    "## Comparison of hedge ratios"
   ]
  },
  {
   "cell_type": "code",
   "execution_count": null,
   "metadata": {},
   "outputs": [],
   "source": [
    "plt.plot(oRTList0[1].oLegList[0].Hedge_Ratio.x,\n",
    "         oRTList0[1].oLegList[0].Hedge_Ratio.y, \n",
    "         label='Discount=-1% leg=4')\n",
    "plt.plot(oRTList0[1].oLegList[4].Hedge_Ratio.x,\n",
    "         oRTList0[1].oLegList[4].Hedge_Ratio.y, \n",
    "         label='Discount=-1% leg=5')\n",
    "\n",
    "plt.xlabel('State of Freight Market') \n",
    "#plt.ylabel('Optimal Hedge Ratio') \n",
    "plt.title('Optimal hedge ratio for each state')\n",
    "plt.legend(loc='lower right')\n",
    "plt.show()"
   ]
  },
  {
   "cell_type": "markdown",
   "metadata": {},
   "source": [
    "## Comparison of time of journeys of the last leg"
   ]
  },
  {
   "cell_type": "code",
   "execution_count": null,
   "metadata": {},
   "outputs": [],
   "source": [
    "plt.plot(oRTList0[1].oLegList[0].TimeAtSea_Days.x,\n",
    "         oRTList0[1].oLegList[0].TimeAtSea_Days.y, \n",
    "         label='Leg 5 Disc=-1%')\n",
    "plt.plot(oRTList1[1].oLegList[0].TimeAtSea_Days.x,\n",
    "         oRTList1[1].oLegList[0].TimeAtSea_Days.y, \n",
    "         label='Leg 5 Disc=-2%')\n",
    "plt.xlabel('State of Freight Market') \n",
    "plt.ylabel('Days') \n",
    "plt.legend(loc='upper right')\n",
    "plt.title('Time of trip in days')\n",
    "plt.show()"
   ]
  },
  {
   "cell_type": "markdown",
   "metadata": {},
   "source": [
    "## More importance to the volatility of the spot rates \n",
    ">eta=0.000001"
   ]
  },
  {
   "cell_type": "code",
   "execution_count": null,
   "metadata": {},
   "outputs": [],
   "source": [
    "op2 = Optimization_Problem(oJourney=oJourney, \n",
    "                          oShip=oShip, \n",
    "                          oPortList=oPortList, \n",
    "                          process=OU_process.OU_process(r_bar = 6.2, r_lambda=3, r_sigma=0.3), \n",
    "                          ffa=FFA.FFA(fut_curve_slope = -0.02), \n",
    "                          eta=0.0000015) \n",
    "oRTList2 = op2.run_optimization()"
   ]
  },
  {
   "cell_type": "code",
   "execution_count": null,
   "metadata": {},
   "outputs": [],
   "source": [
    "plt.plot(oRTList1[1].oLegList[4].Hedge_Ratio.x,\n",
    "         oRTList1[1].oLegList[4].Hedge_Ratio.y, \n",
    "         label='Discount=-1% eta=1e-6')\n",
    "plt.plot(oRTList2[1].oLegList[4].Hedge_Ratio.x,\n",
    "         oRTList2[1].oLegList[4].Hedge_Ratio.y, \n",
    "         label='Discount=-2% eta=1e-6')\n",
    "plt.plot(oRTList1[1].oLegList[4].Hedge_Ratio.x,\n",
    "         oRTList1[1].oLegList[4].Hedge_Ratio.y, \n",
    "         label='Discount=-2% eta=1.5e-6')\n",
    "\n",
    "plt.xlabel('State of Freight Market') \n",
    "#plt.ylabel('Optimal Hedge Ratio') \n",
    "plt.title('Optimal hedge ratio for each state')\n",
    "plt.legend(loc='lower right')\n",
    "plt.show()"
   ]
  },
  {
   "cell_type": "code",
   "execution_count": null,
   "metadata": {},
   "outputs": [],
   "source": [
    "plt.plot(oRTList0[1].oLegList[0].TimeAtSea_Days.x,\n",
    "         oRTList0[1].oLegList[0].TimeAtSea_Days.y, \n",
    "         label='Leg 5 Disc=-1% eta=1e-6')\n",
    "plt.plot(oRTList1[1].oLegList[0].TimeAtSea_Days.x,\n",
    "         oRTList1[1].oLegList[0].TimeAtSea_Days.y, \n",
    "         label='Leg 5 Disc=-2% eta=1e-6')\n",
    "plt.plot(oRTList2[1].oLegList[0].TimeAtSea_Days.x,\n",
    "         oRTList2[1].oLegList[0].TimeAtSea_Days.y, \n",
    "         label='Leg 5 Disc=-2% eta=1.5e-6')\n",
    "\n",
    "plt.xlabel('State of Freight Market') \n",
    "plt.ylabel('Days') \n",
    "plt.legend(loc='upper right')\n",
    "plt.title('Time of trip in days')\n",
    "plt.show()"
   ]
  },
  {
   "cell_type": "markdown",
   "metadata": {},
   "source": [
    "## Changing paramters of the OU process\n",
    "\n",
    "> ou_process = OU_process.OU_process(r_bar = 6.2, r_lambda=3, r_sigma=0.3)\n"
   ]
  },
  {
   "cell_type": "code",
   "execution_count": null,
   "metadata": {},
   "outputs": [],
   "source": [
    "op3 = Optimization_Problem(oJourney=oJourney, \n",
    "                          oShip=oShip, \n",
    "                          oPortList=oPortList, \n",
    "                          process=OU_process.OU_process(r_bar = 6.2, r_lambda=0.5, r_sigma=0.3), \n",
    "                          ffa=FFA.FFA(fut_curve_slope = -0.05), \n",
    "                          eta=0.000001) \n",
    "oRTList3 = op3.run_optimization()\n",
    "\n",
    "op4 = Optimization_Problem(oJourney=oJourney, \n",
    "                          oShip=oShip, \n",
    "                          oPortList=oPortList, \n",
    "                          process=OU_process.OU_process(r_bar = 6.2, r_lambda=0.8, r_sigma=0.3), \n",
    "                          ffa=FFA.FFA(fut_curve_slope = -0.05), \n",
    "                          eta=0.000001) \n",
    "oRTList4 = op4.run_optimization()"
   ]
  },
  {
   "cell_type": "code",
   "execution_count": null,
   "metadata": {},
   "outputs": [],
   "source": [
    "plt.plot(oRTList3[1].oLegList[4].Hedge_Ratio.x,\n",
    "         oRTList3[1].oLegList[4].Hedge_Ratio.y, \n",
    "         label='Discount=-1% eta=5e-7 r_bar=6.8')\n",
    "plt.plot(oRTList4[1].oLegList[4].Hedge_Ratio.x,\n",
    "         oRTList4[1].oLegList[4].Hedge_Ratio.y, \n",
    "         label='Discount=-1% eta=5e-7 r_bar=6.2')\n",
    "\n",
    "\n",
    "plt.xlabel('State of Freight Market') \n",
    "#plt.ylabel('Optimal Hedge Ratio') \n",
    "plt.title('Optimal hedge ratio for each state')\n",
    "plt.legend(loc='upper left')\n",
    "plt.show()"
   ]
  },
  {
   "cell_type": "code",
   "execution_count": null,
   "metadata": {},
   "outputs": [],
   "source": [
    "plt.plot(oRTList3[1].oLegList[4].TimeAtSea_Days.x,\n",
    "         oRTList3[1].oLegList[4].TimeAtSea_Days.y, \n",
    "         label='Leg 5 Discount=-1% eta=1e-7 r_bar=6.2')\n",
    "plt.plot(oRTList4[1].oLegList[4].TimeAtSea_Days.x,\n",
    "         oRTList4[1].oLegList[4].TimeAtSea_Days.y, \n",
    "         label='Leg 5 Discount=-1% eta=1e-7 r_bar=6.8')\n",
    "\n",
    "plt.xlabel('State of Freight Market') \n",
    "plt.ylabel('Days') \n",
    "plt.legend(loc='lower left')\n",
    "plt.title('Time of trip in days')\n",
    "plt.show()"
   ]
  },
  {
   "cell_type": "markdown",
   "metadata": {},
   "source": [
    "## Checking if the function is convex"
   ]
  },
  {
   "cell_type": "code",
   "execution_count": null,
   "metadata": {},
   "outputs": [],
   "source": [
    "ou_process = OU_process.OU_process(r_bar = 6.2, r_lambda=1.8, r_sigma=0.3)\n",
    "ffa = FFA.FFA(fut_curve_slope = -0.5)\n",
    "\n",
    "params = [ou_process.r_bar ,oShip, oPortList, oJourney, ou_process, ffa, 0.00002]"
   ]
  },
  {
   "cell_type": "code",
   "execution_count": null,
   "metadata": {},
   "outputs": [],
   "source": [
    "leg = oRTList0[1].oLegList[0]\n",
    "t_range = np.linspace(leg.TimeAtSeaMin_Days,leg.TimeAtSeaMax_Days,num=100)\n",
    "h_range = np.linspace(0,1,num=100)\n",
    "z = np.zeros((100,100))\n",
    "it = 0\n",
    "ih = 0\n",
    "max_z = 0\n",
    "for t in t_range:\n",
    "    ih = 0\n",
    "    for h in h_range:\n",
    "        z[it,ih],q = leg.CalcGoodwill([h,t],params)\n",
    "        if z[it,ih]>max_z:\n",
    "            h_max = h\n",
    "            t_max = t\n",
    "            max_z = z[it,ih] \n",
    "        ih = ih + 1\n",
    "    it = it + 1\n",
    "    "
   ]
  },
  {
   "cell_type": "code",
   "execution_count": null,
   "metadata": {},
   "outputs": [],
   "source": [
    "print([h_max,t_max,max_z])"
   ]
  },
  {
   "cell_type": "code",
   "execution_count": null,
   "metadata": {},
   "outputs": [],
   "source": [
    "import plotly.graph_objects as go\n",
    "import pandas as pd\n",
    "import numpy as np\n",
    "# Read data from a csv\n",
    "x, y = t_range, h_range\n",
    "fig = go.Figure(data=[go.Surface(z=z.T, x=x, y=y)])\n",
    "fig.update_layout(title='Goodwill as a function of time and hedge ratio', autosize=False,\n",
    "                  width=1000, height=1000,\n",
    "                  scene = dict(\n",
    "                    xaxis_title='Time of the leg in days',\n",
    "                    yaxis_title='Hedge ratio from 0 to 1',\n",
    "                    zaxis_title='Value of the ship'),\n",
    "                  margin=dict(l=65, r=50, b=65, t=90))\n",
    "fig.show()"
   ]
  },
  {
   "cell_type": "code",
   "execution_count": null,
   "metadata": {},
   "outputs": [],
   "source": [
    "leg.FindBestGoodwill(ou_process, ffa, 0, oJourney, oShip, oRTList0, oPortList)"
   ]
  },
  {
   "cell_type": "code",
   "execution_count": null,
   "metadata": {},
   "outputs": [],
   "source": [
    "plt.plot(leg.Hedge_Ratio.x,leg.Hedge_Ratio.y)"
   ]
  },
  {
   "cell_type": "code",
   "execution_count": null,
   "metadata": {},
   "outputs": [],
   "source": []
  },
  {
   "cell_type": "code",
   "execution_count": null,
   "metadata": {},
   "outputs": [],
   "source": []
  },
  {
   "cell_type": "code",
   "execution_count": null,
   "metadata": {},
   "outputs": [],
   "source": []
  }
 ],
 "metadata": {
  "kernelspec": {
   "display_name": "Python 3",
   "language": "python",
   "name": "python3"
  },
  "language_info": {
   "codemirror_mode": {
    "name": "ipython",
    "version": 3
   },
   "file_extension": ".py",
   "mimetype": "text/x-python",
   "name": "python",
   "nbconvert_exporter": "python",
   "pygments_lexer": "ipython3",
   "version": "3.7.3"
  }
 },
 "nbformat": 4,
 "nbformat_minor": 2
}
