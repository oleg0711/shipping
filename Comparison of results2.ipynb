{
 "cells": [
  {
   "cell_type": "markdown",
   "metadata": {},
   "source": [
    "# Generating deterministic model with different revenue rates\n"
   ]
  },
  {
   "cell_type": "markdown",
   "metadata": {},
   "source": [
    "### Running Deterministic Optimization"
   ]
  },
  {
   "cell_type": "code",
   "execution_count": null,
   "metadata": {},
   "outputs": [],
   "source": [
    "import numpy as np\n",
    "state_space = np.linspace(5,7,50)\n",
    "fr_universe = list(np.exp(state_space)/1000)\n"
   ]
  },
  {
   "cell_type": "code",
   "execution_count": null,
   "metadata": {},
   "outputs": [],
   "source": [
    "#fr_universe = list(np.linspace(np.exp(5)/1000,np.exp(7)/1000,50))\n",
    "#state_space = np.array(np.log(fr_universe*1000))"
   ]
  },
  {
   "cell_type": "code",
   "execution_count": null,
   "metadata": {},
   "outputs": [],
   "source": [
    "import pandas as pd\n",
    "import matplotlib.pyplot as plt\n",
    "from scipy.interpolate import interp1d\n",
    "from Logistics_stoch import CShip\n",
    "from Logistics_stoch import CRoundtrip\n",
    "from Logistics_stoch import CJourney\n",
    "from Logistics_stoch import CPort\n",
    "import deterministic_opt_func as det_opt\n",
    "\n",
    "oJourney = CJourney(NrOfRoundtrips = 1,\n",
    "                    LegsPerRoundtrip = 3,\n",
    "                    OpprtCostCapitalRate = 0.08,\n",
    "                    DailyHire_USDperDay = 30000,\n",
    "                    FutureProfitPotential_USDperDay = 0)#12968)\n",
    "\n",
    "\n",
    "oShip = CShip(Vmin=10, \n",
    "              Vmax=17, \n",
    "              DWTscantling=157880, \n",
    "              DWTdesign=145900, \n",
    "              Lightweight=49000, \n",
    "              k=0.00000391, \n",
    "              p=381, \n",
    "              g=3.1, \n",
    "              a=0.666667, \n",
    "              ShipDischargeRate=3000, \n",
    "              BallastCapacity=54500,\n",
    "              MinFillRateShip=0.3,\n",
    "              AuxFuelConsumption_TonnePerDay=5)\n",
    "\n",
    "results = {}\n",
    "for fr in fr_universe:\n",
    "    print(\"Running for Freight Rate of: \" + str(fr))\n",
    "    \n",
    "    oPortList = []\n",
    "\n",
    "    df_data = pd.read_csv('journey_data.csv',sep=',')\n",
    "\n",
    "    for i in range(0,oJourney.LegsPerRoundtrip+1):\n",
    "        for index,row in df_data.iterrows():\n",
    "            v_name = row['Variable']\n",
    "            v_value = row[str(i)]\n",
    "            #print(\"Loading from excel, leg:\"+str(i)+\", Executing statement(\"+str(v_name)+\"=\"+str(v_value)+\")\")\n",
    "            exec(v_name + '=' + str(v_value))\n",
    "\n",
    "\n",
    "        oPort = CPort(PortNr=i, \n",
    "                      DistancePreviousPort_nm=DistancePreviousPort_nm,\n",
    "                      LoadingRate_QbmetresperHr=LoadingRate_QbmetresperHr,\n",
    "                      WaitingTime_Hrs=WaitingTime_Hrs,              \n",
    "                      CargoIntake_Barrels=CargoIntake_Barrels,\n",
    "                      CargoIntake_QBmetresperBarrel=CargoIntake_QBmetresperBarrel,\n",
    "                      CargoIntake_QbmetresPerTonne=CargoIntake_QbmetresPerTonne,\n",
    "                      FixedPortAccessCosts_USD = FixedPortAccessCosts_USD,\n",
    "                      UnloadingCharge_USDperHr = UnloadingCharge_USDperHr,\n",
    "                      LoadingCharge_USDperHr = LoadingCharge_USDperHr,\n",
    "                      CargoRevenueRate_USDperBarrelper1000nm = fr, # CargoRevenueRate_USDperBarrelper1000nm,\n",
    "                      MainBunkerRate_USDperBarrel = MainBunkerRate_USDperBarrel,\n",
    "                      MainBunker_QBmetresperBarrel = MainBunker_QBmetresperBarrel,\n",
    "                      MainBunker_QbmetresPerTonne = MainBunker_QbmetresPerTonne,\n",
    "                      AuxFuelRate_USDperTonne = AuxFuelRate_USDperTonne,\n",
    "                      UnloadingCosts_USD = UnloadingCosts_USD,\n",
    "                      LoadingCosts_USD = LoadingCosts_USD,\n",
    "                      CargoIntake_Tonne = CargoIntake_Tonne,\n",
    "                      UnloadingTime_Hrs = UnloadingTime_Hrs,\n",
    "                      LoadingTime_Hrs = LoadingTime_Hrs,\n",
    "                      LegRevenue_Barrels = LegRevenue_Barrels,\n",
    "                      LegRevenue_USD = LegRevenue_USD)\n",
    "\n",
    "        oPortList.append(oPort)\n",
    "\n",
    "    oRTList_det = det_opt.run_deterministic_opt(oJ=oJourney,\n",
    "                                                oS=oShip,\n",
    "                                                oPL=oPortList)\n",
    "    results[fr] = oRTList_det\n",
    "# storing solution in the journey object\n",
    "oJourney.oRTList_det = oRTList_det\n"
   ]
  },
  {
   "cell_type": "code",
   "execution_count": null,
   "metadata": {},
   "outputs": [],
   "source": [
    "s = np.zeros(shape=(50,5))\n",
    "#for fr in fr_universe:\n",
    "import matplotlib.pyplot as plt\n",
    "plt.subplots(figsize=(15, 5))\n",
    "plt.subplot(1, 2, 1)\n",
    "determ_legs = {}\n",
    "for leg_nr in range(0,oJourney.LegsPerRoundtrip):\n",
    "    y = [results[fr][1].oLegList[leg_nr].Speed_kn for fr in fr_universe]\n",
    "    #y = [results[fr][1].RoundtripGoodwill for fr in fr_universe]\n",
    "    x = [state_space[fr_universe.index(fr)] for fr in fr_universe]\n",
    "    x = [fr for fr in fr_universe]\n",
    "    determ_legs[leg_nr] = (x,y)\n",
    "    plt.plot(x, y, label='Leg ' + str(leg_nr+1))\n",
    "    #s[fr_universe.index(fr),leg_nr] = results[fr][1].oLegList[leg_nr].Speed_kn\n",
    "\n",
    "rt_y = [results[fr][1].RoundtripGoodwill for fr in fr_universe]\n",
    "rt_x = [fr for fr in fr_universe]\n",
    "\n",
    "\n",
    "#plt.plot(state_space,s)\n",
    "plt.xlabel('Cargo Revenue Rate (USD per Barrel per 1000nm)') \n",
    "plt.ylabel('nm/h') \n",
    "plt.title('Speeds of the vessel')\n",
    "plt.legend()\n",
    "\n",
    "\n",
    "plt.subplot(1, 2, 2)\n",
    "plt.plot(rt_x,rt_y,label='Roundtrip profit')\n",
    "plt.xlabel('Cargo Revenue Rate (USD per Barrel per 1000nm)') \n",
    "plt.ylabel('US$') \n",
    "plt.title('Roundtrip profit')\n",
    "plt.legend()\n",
    "\n",
    "plt.show()\n"
   ]
  },
  {
   "cell_type": "markdown",
   "metadata": {},
   "source": [
    "## Running the stochastic optimization"
   ]
  },
  {
   "cell_type": "code",
   "execution_count": null,
   "metadata": {},
   "outputs": [],
   "source": [
    "import OU_process\n",
    "ou_process = OU_process.OU_process(r_bar = 6.2, \n",
    "                                   r_lambda=0.0, \n",
    "                                   r_sigma=0.3, \n",
    "                                   r_start=5.4,\n",
    "                                   r_end=6.9                              \n",
    "                                  )"
   ]
  },
  {
   "cell_type": "code",
   "execution_count": null,
   "metadata": {},
   "outputs": [],
   "source": [
    "from Optimization_Problem import Optimization_Problem\n",
    "import FFA\n",
    "ffa=FFA.FFA(fut_curve_slope = -0.01)\n",
    "eta=0\n",
    "op0 = Optimization_Problem(oJourney=oJourney, \n",
    "                          oShip=oShip, \n",
    "                          oPortList=oPortList, \n",
    "                          process=ou_process, \n",
    "                          ffa=ffa, \n",
    "                          eta=eta) # determines how important is the variance of future spot rates)\n",
    "oRTList0 = op0.run_optimization()"
   ]
  },
  {
   "cell_type": "markdown",
   "metadata": {},
   "source": [
    "# Display the results\n",
    "\n"
   ]
  },
  {
   "cell_type": "markdown",
   "metadata": {},
   "source": [
    "## Value Function ($G$) or Goodwill \n",
    "\n",
    "The final value function after all legs and rountrip were calculated from the back."
   ]
  },
  {
   "cell_type": "code",
   "execution_count": null,
   "metadata": {},
   "outputs": [],
   "source": [
    "import matplotlib.pyplot as plt\n",
    "from matplotlib.ticker import NullFormatter \n",
    "x = np.exp(oRTList0[oJourney.NrOfRoundtrips].RoundtripGoodwill.x)/1000\n",
    "plt.plot(rt_x,\n",
    "         oRTList0[oJourney.NrOfRoundtrips].RoundtripGoodwill(np.log(np.array(rt_x)*1000)),\n",
    "        label='Stochastic')\n",
    "plt.plot(rt_x,\n",
    "         rt_y,\n",
    "         label='Deterministic')\n",
    "\n",
    "plt.xlabel('State of Freight Market') \n",
    "plt.ylabel('Goodwill') \n",
    "plt.title('The value of the ship')\n",
    "plt.legend()\n",
    "plt.gca().yaxis.set_minor_formatter(NullFormatter())\n",
    "plt.show()\n",
    "\n"
   ]
  },
  {
   "cell_type": "markdown",
   "metadata": {},
   "source": [
    "## Speed trip"
   ]
  },
  {
   "cell_type": "code",
   "execution_count": null,
   "metadata": {},
   "outputs": [],
   "source": [
    "plt.subplots(figsize=(15, 10))\n",
    "x = np.exp(oRTList0[1].oLegList[0].Speed_kn.x)/1000\n",
    "for leg_i in range(0,oJourney.LegsPerRoundtrip):\n",
    "    plt.plot(x,\n",
    "             oRTList0[1].oLegList[leg_i].Speed_kn.y, \n",
    "             label='Stoch Leg ' + str(leg_i+1),\n",
    "             dashes=[6, 2])\n",
    "    (x1,y1) = determ_legs[leg_i]\n",
    "    plt.plot(x1,\n",
    "             y1, \n",
    "             label='Determ Leg ' + str(leg_i+1))\n",
    "    \n",
    "plt.xlabel('State - Cargo Revenue Rate (USD per Barrel per 1000nm)') \n",
    "plt.ylabel('nm/h') \n",
    "plt.title('Speeds of the vessel')\n",
    "plt.legend()\n",
    "plt.show()\n"
   ]
  },
  {
   "cell_type": "code",
   "execution_count": null,
   "metadata": {},
   "outputs": [],
   "source": [
    "for j in range(2-1, -1, -1):\n",
    "    print(j)"
   ]
  },
  {
   "cell_type": "markdown",
   "metadata": {},
   "source": [
    "## Hedge Ratio"
   ]
  },
  {
   "cell_type": "code",
   "execution_count": null,
   "metadata": {},
   "outputs": [],
   "source": [
    "plt.plot(oRTList0[1].oLegList[0].Hedge_Ratio.x,\n",
    "         oRTList0[1].oLegList[0].Hedge_Ratio.y, \n",
    "         label='Leg 5')\n",
    "plt.plot(oRTList0[1].oLegList[1].Hedge_Ratio.x,\n",
    "         oRTList0[1].oLegList[1].Hedge_Ratio.y, \n",
    "         label='Leg 4')\n",
    "plt.plot(oRTList0[1].oLegList[2].Hedge_Ratio.x,\n",
    "         oRTList0[1].oLegList[2].Hedge_Ratio.y, \n",
    "         label='Leg 3')\n",
    "plt.plot(oRTList0[1].oLegList[3].Hedge_Ratio.x,\n",
    "         oRTList0[1].oLegList[3].Hedge_Ratio.y, \n",
    "         label='Leg 2')\n",
    "plt.plot(oRTList0[1].oLegList[4].Hedge_Ratio.x,\n",
    "         oRTList0[1].oLegList[4].Hedge_Ratio.y, \n",
    "         label='Leg 1')\n",
    "plt.xlabel('State of Freight Market') \n",
    "plt.ylabel('Days') \n",
    "plt.legend(loc='upper right')\n",
    "plt.title('Optimal hedge ratio for each state')\n",
    "plt.show()"
   ]
  },
  {
   "cell_type": "markdown",
   "metadata": {},
   "source": [
    "## Changing parameters of the problem:"
   ]
  },
  {
   "cell_type": "markdown",
   "metadata": {},
   "source": [
    "Assume that the forward rates are discounted by more than previously assumed, in this case hadging is more costly on average, we expect less hedging and decrease of the hedge ratio:\n",
    "\n",
    "> ffa = FFA.FFA(fut_curve_slope = -0.01)"
   ]
  },
  {
   "cell_type": "code",
   "execution_count": null,
   "metadata": {},
   "outputs": [],
   "source": [
    "from Optimization_Problem import Optimization_Problem\n",
    "op1 = Optimization_Problem(oJourney=oJourney, \n",
    "                          oShip=oShip, \n",
    "                          oPortList=oPortList, \n",
    "                          process=OU_process.OU_process(r_bar = 6.2, \n",
    "                                                        r_lambda=0, \n",
    "                                                        r_sigma=0.3), \n",
    "                          ffa=FFA.FFA(fut_curve_slope = -0.02), \n",
    "                          eta=0.000001) \n",
    "oRTList1 = op1.run_optimization()"
   ]
  },
  {
   "cell_type": "markdown",
   "metadata": {},
   "source": [
    "## Comparison of hedge ratios"
   ]
  },
  {
   "cell_type": "code",
   "execution_count": null,
   "metadata": {},
   "outputs": [],
   "source": [
    "plt.plot(oRTList0[1].oLegList[0].Hedge_Ratio.x,\n",
    "         oRTList0[1].oLegList[0].Hedge_Ratio.y, \n",
    "         label='Discount=-1% leg=4')\n",
    "plt.plot(oRTList0[1].oLegList[4].Hedge_Ratio.x,\n",
    "         oRTList0[1].oLegList[4].Hedge_Ratio.y, \n",
    "         label='Discount=-1% leg=5')\n",
    "\n",
    "plt.xlabel('State of Freight Market') \n",
    "#plt.ylabel('Optimal Hedge Ratio') \n",
    "plt.title('Optimal hedge ratio for each state')\n",
    "plt.legend(loc='lower right')\n",
    "plt.show()"
   ]
  },
  {
   "cell_type": "markdown",
   "metadata": {},
   "source": [
    "## Comparison of time of journeys of the last leg"
   ]
  },
  {
   "cell_type": "code",
   "execution_count": null,
   "metadata": {},
   "outputs": [],
   "source": [
    "plt.plot(oRTList0[1].oLegList[0].TimeAtSea_Days.x,\n",
    "         oRTList0[1].oLegList[0].TimeAtSea_Days.y, \n",
    "         label='Leg 5 Disc=-1%')\n",
    "plt.plot(oRTList1[1].oLegList[0].TimeAtSea_Days.x,\n",
    "         oRTList1[1].oLegList[0].TimeAtSea_Days.y, \n",
    "         label='Leg 5 Disc=-2%')\n",
    "plt.xlabel('State of Freight Market') \n",
    "plt.ylabel('Days') \n",
    "plt.legend(loc='upper right')\n",
    "plt.title('Time of trip in days')\n",
    "plt.show()"
   ]
  },
  {
   "cell_type": "markdown",
   "metadata": {},
   "source": [
    "## More importance to the volatility of the spot rates \n",
    ">eta=0.000001"
   ]
  },
  {
   "cell_type": "code",
   "execution_count": null,
   "metadata": {},
   "outputs": [],
   "source": [
    "op2 = Optimization_Problem(oJourney=oJourney, \n",
    "                          oShip=oShip, \n",
    "                          oPortList=oPortList, \n",
    "                          process=OU_process.OU_process(r_bar = 6.2, r_lambda=3, r_sigma=0.3), \n",
    "                          ffa=FFA.FFA(fut_curve_slope = -0.02), \n",
    "                          eta=0.0000015) \n",
    "oRTList2 = op2.run_optimization()"
   ]
  },
  {
   "cell_type": "code",
   "execution_count": null,
   "metadata": {},
   "outputs": [],
   "source": [
    "plt.plot(oRTList1[1].oLegList[4].Hedge_Ratio.x,\n",
    "         oRTList1[1].oLegList[4].Hedge_Ratio.y, \n",
    "         label='Discount=-1% eta=1e-6')\n",
    "plt.plot(oRTList2[1].oLegList[4].Hedge_Ratio.x,\n",
    "         oRTList2[1].oLegList[4].Hedge_Ratio.y, \n",
    "         label='Discount=-2% eta=1e-6')\n",
    "plt.plot(oRTList1[1].oLegList[4].Hedge_Ratio.x,\n",
    "         oRTList1[1].oLegList[4].Hedge_Ratio.y, \n",
    "         label='Discount=-2% eta=1.5e-6')\n",
    "\n",
    "plt.xlabel('State of Freight Market') \n",
    "#plt.ylabel('Optimal Hedge Ratio') \n",
    "plt.title('Optimal hedge ratio for each state')\n",
    "plt.legend(loc='lower right')\n",
    "plt.show()"
   ]
  },
  {
   "cell_type": "code",
   "execution_count": null,
   "metadata": {},
   "outputs": [],
   "source": [
    "plt.plot(oRTList0[1].oLegList[0].TimeAtSea_Days.x,\n",
    "         oRTList0[1].oLegList[0].TimeAtSea_Days.y, \n",
    "         label='Leg 5 Disc=-1% eta=1e-6')\n",
    "plt.plot(oRTList1[1].oLegList[0].TimeAtSea_Days.x,\n",
    "         oRTList1[1].oLegList[0].TimeAtSea_Days.y, \n",
    "         label='Leg 5 Disc=-2% eta=1e-6')\n",
    "plt.plot(oRTList2[1].oLegList[0].TimeAtSea_Days.x,\n",
    "         oRTList2[1].oLegList[0].TimeAtSea_Days.y, \n",
    "         label='Leg 5 Disc=-2% eta=1.5e-6')\n",
    "\n",
    "plt.xlabel('State of Freight Market') \n",
    "plt.ylabel('Days') \n",
    "plt.legend(loc='upper right')\n",
    "plt.title('Time of trip in days')\n",
    "plt.show()"
   ]
  },
  {
   "cell_type": "markdown",
   "metadata": {},
   "source": [
    "## Changing paramters of the OU process\n",
    "\n",
    "> ou_process = OU_process.OU_process(r_bar = 6.2, r_lambda=3, r_sigma=0.3)\n"
   ]
  },
  {
   "cell_type": "code",
   "execution_count": null,
   "metadata": {},
   "outputs": [],
   "source": [
    "op3 = Optimization_Problem(oJourney=oJourney, \n",
    "                          oShip=oShip, \n",
    "                          oPortList=oPortList, \n",
    "                          process=OU_process.OU_process(r_bar = 6.2, r_lambda=0.5, r_sigma=0.3), \n",
    "                          ffa=FFA.FFA(fut_curve_slope = -0.05), \n",
    "                          eta=0.000001) \n",
    "oRTList3 = op3.run_optimization()\n",
    "\n",
    "op4 = Optimization_Problem(oJourney=oJourney, \n",
    "                          oShip=oShip, \n",
    "                          oPortList=oPortList, \n",
    "                          process=OU_process.OU_process(r_bar = 6.2, r_lambda=0.8, r_sigma=0.3), \n",
    "                          ffa=FFA.FFA(fut_curve_slope = -0.05), \n",
    "                          eta=0.000001) \n",
    "oRTList4 = op4.run_optimization()"
   ]
  },
  {
   "cell_type": "code",
   "execution_count": null,
   "metadata": {},
   "outputs": [],
   "source": [
    "plt.plot(oRTList3[1].oLegList[4].Hedge_Ratio.x,\n",
    "         oRTList3[1].oLegList[4].Hedge_Ratio.y, \n",
    "         label='Discount=-1% eta=5e-7 r_bar=6.8')\n",
    "plt.plot(oRTList4[1].oLegList[4].Hedge_Ratio.x,\n",
    "         oRTList4[1].oLegList[4].Hedge_Ratio.y, \n",
    "         label='Discount=-1% eta=5e-7 r_bar=6.2')\n",
    "\n",
    "\n",
    "plt.xlabel('State of Freight Market') \n",
    "#plt.ylabel('Optimal Hedge Ratio') \n",
    "plt.title('Optimal hedge ratio for each state')\n",
    "plt.legend(loc='upper left')\n",
    "plt.show()"
   ]
  },
  {
   "cell_type": "code",
   "execution_count": null,
   "metadata": {},
   "outputs": [],
   "source": [
    "plt.plot(oRTList3[1].oLegList[4].TimeAtSea_Days.x,\n",
    "         oRTList3[1].oLegList[4].TimeAtSea_Days.y, \n",
    "         label='Leg 5 Discount=-1% eta=1e-7 r_bar=6.2')\n",
    "plt.plot(oRTList4[1].oLegList[4].TimeAtSea_Days.x,\n",
    "         oRTList4[1].oLegList[4].TimeAtSea_Days.y, \n",
    "         label='Leg 5 Discount=-1% eta=1e-7 r_bar=6.8')\n",
    "\n",
    "plt.xlabel('State of Freight Market') \n",
    "plt.ylabel('Days') \n",
    "plt.legend(loc='lower left')\n",
    "plt.title('Time of trip in days')\n",
    "plt.show()"
   ]
  },
  {
   "cell_type": "markdown",
   "metadata": {},
   "source": [
    "## Checking if the function is convex"
   ]
  },
  {
   "cell_type": "code",
   "execution_count": null,
   "metadata": {},
   "outputs": [],
   "source": [
    "ou_process = OU_process.OU_process(r_bar = 6.2, r_lambda=1.8, r_sigma=0.3)\n",
    "ffa = FFA.FFA(fut_curve_slope = -0.5)\n",
    "\n",
    "params = [ou_process.r_bar ,oShip, oPortList, oJourney, ou_process, ffa, 0.00002]"
   ]
  },
  {
   "cell_type": "code",
   "execution_count": null,
   "metadata": {},
   "outputs": [],
   "source": [
    "leg = oRTList0[1].oLegList[0]\n",
    "t_range = np.linspace(leg.TimeAtSeaMin_Days,leg.TimeAtSeaMax_Days,num=100)\n",
    "h_range = np.linspace(0,1,num=100)\n",
    "z = np.zeros((100,100))\n",
    "it = 0\n",
    "ih = 0\n",
    "max_z = 0\n",
    "for t in t_range:\n",
    "    ih = 0\n",
    "    for h in h_range:\n",
    "        z[it,ih],q = leg.CalcGoodwill([h,t],params)\n",
    "        if z[it,ih]>max_z:\n",
    "            h_max = h\n",
    "            t_max = t\n",
    "            max_z = z[it,ih] \n",
    "        ih = ih + 1\n",
    "    it = it + 1\n",
    "    "
   ]
  },
  {
   "cell_type": "code",
   "execution_count": null,
   "metadata": {},
   "outputs": [],
   "source": [
    "print([h_max,t_max,max_z])"
   ]
  },
  {
   "cell_type": "code",
   "execution_count": null,
   "metadata": {},
   "outputs": [],
   "source": [
    "import plotly.graph_objects as go\n",
    "import pandas as pd\n",
    "import numpy as np\n",
    "# Read data from a csv\n",
    "x, y = t_range, h_range\n",
    "fig = go.Figure(data=[go.Surface(z=z.T, x=x, y=y)])\n",
    "fig.update_layout(title='Goodwill as a function of time and hedge ratio', autosize=False,\n",
    "                  width=1000, height=1000,\n",
    "                  scene = dict(\n",
    "                    xaxis_title='Time of the leg in days',\n",
    "                    yaxis_title='Hedge ratio from 0 to 1',\n",
    "                    zaxis_title='Value of the ship'),\n",
    "                  margin=dict(l=65, r=50, b=65, t=90))\n",
    "fig.show()"
   ]
  },
  {
   "cell_type": "code",
   "execution_count": null,
   "metadata": {},
   "outputs": [],
   "source": [
    "leg.FindBestGoodwill(ou_process, ffa, 0, oJourney, oShip, oRTList0, oPortList)"
   ]
  },
  {
   "cell_type": "code",
   "execution_count": null,
   "metadata": {},
   "outputs": [],
   "source": [
    "plt.plot(leg.Hedge_Ratio.x,leg.Hedge_Ratio.y)"
   ]
  },
  {
   "cell_type": "code",
   "execution_count": null,
   "metadata": {},
   "outputs": [],
   "source": []
  },
  {
   "cell_type": "code",
   "execution_count": null,
   "metadata": {},
   "outputs": [],
   "source": []
  },
  {
   "cell_type": "code",
   "execution_count": null,
   "metadata": {},
   "outputs": [],
   "source": []
  },
  {
   "cell_type": "code",
   "execution_count": null,
   "metadata": {},
   "outputs": [],
   "source": [
    "leg = oRTList0[1].oLegList[0]\n",
    "leg_d = results[0.41174662127882383][1].oLegList[0]\n",
    "s1_a = []\n",
    "s2_a = []\n",
    "\n",
    "x = np.linspace(10,leg.TimeAtSeaMax_Days,num=70)\n",
    "\n",
    "for t in x:\n",
    "    s1 = leg.CalcGoodwill([0,t], [r,oShip,oPortList,oJourney,ou_process,ffa,eta])\n",
    "    s1_a.append(s1)\n",
    "    s2 = leg_d.CalcGoodwill(t, oJourney, oShip, results[0.41174662127882383], oPortList)\n",
    "    s2_a.append(s2)\n",
    "    #print(\"Stochastic:\" + str(s1))\n",
    "    #print(\"Deterministic:\" + str(s2))\n",
    "    #print(s1[0]-s2)\n",
    "plt.plot(x,s1_a)\n",
    "plt.show()\n",
    "plt.plot(x,s2_a)\n",
    "plt.show()\n",
    "\n",
    "\n",
    "#np.log(np.array(list(results.keys()))*1000)\n",
    "#np.exp(6.02040816)/1000\n"
   ]
  },
  {
   "cell_type": "code",
   "execution_count": null,
   "metadata": {},
   "outputs": [],
   "source": [
    "t1 = leg.TimeAtSea_Days(6.02040816)\n",
    "t2 = leg_d.TimeAtSea_Days\n"
   ]
  },
  {
   "cell_type": "code",
   "execution_count": null,
   "metadata": {},
   "outputs": [],
   "source": [
    "\n",
    "#plt.plot(np.array(s1_a)[10:30,0])\n",
    "#plt.plot(s2_a[10:30])\n",
    "r = 6.02040816\n",
    "\n",
    "df1 = np.exp(-1 * oJourney.OpprtCostCapitalRate * (t1 / 365))\n",
    "df2 = np.exp(-1 * oJourney.OpprtCostCapitalRate * (t2 / 365))\n",
    "\n",
    "\n",
    "states_next , step_next = ou_process.gen_cond_states(r,leg.TimeAtSeaMax_Days,10e+100, -10e+100)\n",
    "prob_space = ou_process.p_vector(states_next, step_next, r, t1)\n",
    "\n",
    "print(np.dot(prob_space,states_next))\n",
    "#leg.FutureGoodwill(states_next)\n",
    "\n",
    "plt.plot(states_next,leg.FutureGoodwill(states_next))\n",
    "print(\"Prob Space:\" + str(np.sum(prob_space)))\n",
    "print(\"Deterministic:\" + str(df2 * leg_d.FutureGoodwill))\n",
    "print(\"Stochastic:\" + str(df1 * np.dot(prob_space,leg.FutureGoodwill(states_next))))\n",
    "print(\"Difference:\" + str(df1 * np.dot(prob_space,leg.FutureGoodwill(states_next))-df1 * leg_d.FutureGoodwill))\n",
    "print(\"Risk Neutral Adjustment:\" + str(df1 * np.exp(0*0.5*0.25*0.25*t1/365 + np.dot(prob_space,np.log(leg.FutureGoodwill(states_next))))-df1 * leg_d.FutureGoodwill))\n",
    "\n",
    "#plt.plot(np.exp(leg.FutureGoodwill.x)/1000,leg.FutureGoodwill.y)\n",
    "#plt.show()\n",
    "\n",
    "#plt.plot(np.exp(leg.FutureGoodwill.x)/1000,leg.FutureGoodwill.y)\n",
    "#plt.show()\n",
    "\n",
    "# actual difference:\n",
    "#print(np.array(s1_a)[indx,0] - np.array(s1_a)[indx,1])\n"
   ]
  }
 ],
 "metadata": {
  "kernelspec": {
   "display_name": "Python 3",
   "language": "python",
   "name": "python3"
  },
  "language_info": {
   "codemirror_mode": {
    "name": "ipython",
    "version": 3
   },
   "file_extension": ".py",
   "mimetype": "text/x-python",
   "name": "python",
   "nbconvert_exporter": "python",
   "pygments_lexer": "ipython3",
   "version": "3.7.3"
  }
 },
 "nbformat": 4,
 "nbformat_minor": 2
}
